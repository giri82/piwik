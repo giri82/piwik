{
  "cells": [
    {
      "cell_type": "markdown",
      "metadata": {
        "id": "view-in-github",
        "colab_type": "text"
      },
      "source": [
        "<a href=\"https://colab.research.google.com/github/giri82/piwik/blob/master/Week_1_Sept10.ipynb\" target=\"_parent\"><img src=\"https://colab.research.google.com/assets/colab-badge.svg\" alt=\"Open In Colab\"/></a>"
      ]
    },
    {
      "cell_type": "code",
      "execution_count": null,
      "id": "bc378a05-c971-4a36-8964-23210cbed075",
      "metadata": {
        "id": "bc378a05-c971-4a36-8964-23210cbed075",
        "outputId": "1850f50e-386f-432a-9268-4dfa686adcea"
      },
      "outputs": [
        {
          "name": "stdout",
          "output_type": "stream",
          "text": [
            "hi there\n"
          ]
        }
      ],
      "source": [
        "\"\"\"\n",
        "This is a comment to explain that I am using Print function to print stuff out. This is a multline comment?\n",
        "Here it is my second line.\n",
        "\n",
        "\n",
        "\n",
        "Hey there too many lines already.\n",
        "\"\"\"\n",
        "print(\"hi there\")"
      ]
    },
    {
      "cell_type": "code",
      "execution_count": null,
      "id": "14abadbb-a805-45ef-9a9b-98e15f04f6de",
      "metadata": {
        "tags": [],
        "id": "14abadbb-a805-45ef-9a9b-98e15f04f6de",
        "outputId": "43035c8d-3f8c-45d4-ca7e-b17d5d90805a"
      },
      "outputs": [
        {
          "name": "stdout",
          "output_type": "stream",
          "text": [
            "5\n"
          ]
        }
      ],
      "source": [
        "# This is printing number 5.\n",
        "print(5)"
      ]
    },
    {
      "cell_type": "code",
      "execution_count": null,
      "id": "6a283dc4-8d01-4631-8ffe-4e0e9485c9b8",
      "metadata": {
        "tags": [],
        "id": "6a283dc4-8d01-4631-8ffe-4e0e9485c9b8"
      },
      "outputs": [],
      "source": [
        "a = 5"
      ]
    },
    {
      "cell_type": "code",
      "execution_count": null,
      "id": "5e64b3c0-7318-40e8-a0ec-cab680d89e94",
      "metadata": {
        "tags": [],
        "id": "5e64b3c0-7318-40e8-a0ec-cab680d89e94",
        "outputId": "c29068e8-bf4c-46da-f541-346b0dcfc551"
      },
      "outputs": [
        {
          "data": {
            "text/plain": [
              "int"
            ]
          },
          "execution_count": 7,
          "metadata": {},
          "output_type": "execute_result"
        }
      ],
      "source": [
        "type(a)"
      ]
    },
    {
      "cell_type": "code",
      "execution_count": null,
      "id": "54ea2169-d882-4e4b-b4c3-fa70c9c76319",
      "metadata": {
        "tags": [],
        "id": "54ea2169-d882-4e4b-b4c3-fa70c9c76319"
      },
      "outputs": [],
      "source": [
        "a = \"Matt\""
      ]
    },
    {
      "cell_type": "code",
      "execution_count": null,
      "id": "2c4b104d-35e9-4e33-b42a-7202be2c056f",
      "metadata": {
        "tags": [],
        "id": "2c4b104d-35e9-4e33-b42a-7202be2c056f",
        "outputId": "03e97ba0-3da7-4504-ce51-02023a81db69"
      },
      "outputs": [
        {
          "data": {
            "text/plain": [
              "str"
            ]
          },
          "execution_count": 9,
          "metadata": {},
          "output_type": "execute_result"
        }
      ],
      "source": [
        "type(a)"
      ]
    },
    {
      "cell_type": "code",
      "execution_count": null,
      "id": "4448cd52-c52f-4794-bb19-f19eb7dab508",
      "metadata": {
        "tags": [],
        "id": "4448cd52-c52f-4794-bb19-f19eb7dab508"
      },
      "outputs": [],
      "source": [
        "a = 6.2"
      ]
    },
    {
      "cell_type": "code",
      "execution_count": null,
      "id": "4e6d714b-5ae0-45dc-94bd-c5b90be32090",
      "metadata": {
        "tags": [],
        "id": "4e6d714b-5ae0-45dc-94bd-c5b90be32090",
        "outputId": "578886a0-7f07-4183-8889-b89f5e4f9ebd"
      },
      "outputs": [
        {
          "data": {
            "text/plain": [
              "float"
            ]
          },
          "execution_count": 11,
          "metadata": {},
          "output_type": "execute_result"
        }
      ],
      "source": [
        "type(a)"
      ]
    },
    {
      "cell_type": "code",
      "execution_count": null,
      "id": "b12a04fd-2808-4e6d-87b0-a381e5844de9",
      "metadata": {
        "tags": [],
        "id": "b12a04fd-2808-4e6d-87b0-a381e5844de9"
      },
      "outputs": [],
      "source": [
        "a = True"
      ]
    },
    {
      "cell_type": "code",
      "execution_count": null,
      "id": "35df40a5-130b-459d-9dbb-c9cfda99aab2",
      "metadata": {
        "tags": [],
        "id": "35df40a5-130b-459d-9dbb-c9cfda99aab2",
        "outputId": "79176bef-ff04-4440-cabf-95a1b35d25c3"
      },
      "outputs": [
        {
          "data": {
            "text/plain": [
              "bool"
            ]
          },
          "execution_count": 13,
          "metadata": {},
          "output_type": "execute_result"
        }
      ],
      "source": [
        "type(a)"
      ]
    },
    {
      "cell_type": "code",
      "execution_count": null,
      "id": "282207ba-f4ab-4c03-8d45-e433d670f52d",
      "metadata": {
        "tags": [],
        "id": "282207ba-f4ab-4c03-8d45-e433d670f52d"
      },
      "outputs": [],
      "source": [
        "a = 5\n",
        "b = 2"
      ]
    },
    {
      "cell_type": "code",
      "execution_count": null,
      "id": "7ae62635-0557-44ac-9ffb-e9525910738a",
      "metadata": {
        "tags": [],
        "id": "7ae62635-0557-44ac-9ffb-e9525910738a",
        "outputId": "1fc22e42-5bf4-4bfa-ec66-5023798482b5"
      },
      "outputs": [
        {
          "data": {
            "text/plain": [
              "7"
            ]
          },
          "execution_count": 15,
          "metadata": {},
          "output_type": "execute_result"
        }
      ],
      "source": [
        "a+b"
      ]
    },
    {
      "cell_type": "code",
      "execution_count": null,
      "id": "02c82795-3f74-48e6-99cc-d22c30818653",
      "metadata": {
        "tags": [],
        "id": "02c82795-3f74-48e6-99cc-d22c30818653",
        "outputId": "63dfcb6e-dd71-4901-f892-c2cf9c7c89df"
      },
      "outputs": [
        {
          "data": {
            "text/plain": [
              "3"
            ]
          },
          "execution_count": 16,
          "metadata": {},
          "output_type": "execute_result"
        }
      ],
      "source": [
        "a-b"
      ]
    },
    {
      "cell_type": "code",
      "execution_count": null,
      "id": "13b29905-c0a0-4889-aeee-e28102b8ce05",
      "metadata": {
        "tags": [],
        "id": "13b29905-c0a0-4889-aeee-e28102b8ce05",
        "outputId": "ba72b4d2-819e-45ab-eaa6-e30e6d2ab7ae"
      },
      "outputs": [
        {
          "data": {
            "text/plain": [
              "-3"
            ]
          },
          "execution_count": 17,
          "metadata": {},
          "output_type": "execute_result"
        }
      ],
      "source": [
        "b-a"
      ]
    },
    {
      "cell_type": "code",
      "execution_count": null,
      "id": "664eb2a6-10db-41b6-aed8-52ee541610da",
      "metadata": {
        "tags": [],
        "id": "664eb2a6-10db-41b6-aed8-52ee541610da",
        "outputId": "acf7e545-6372-4eda-a5e0-4ba962c8dfb2"
      },
      "outputs": [
        {
          "data": {
            "text/plain": [
              "10"
            ]
          },
          "execution_count": 18,
          "metadata": {},
          "output_type": "execute_result"
        }
      ],
      "source": [
        "b*a"
      ]
    },
    {
      "cell_type": "code",
      "execution_count": null,
      "id": "8e702fff-8c1e-498e-ab2d-5b097ce7d370",
      "metadata": {
        "tags": [],
        "id": "8e702fff-8c1e-498e-ab2d-5b097ce7d370",
        "outputId": "c9c9257a-c264-4365-91b2-1b13032a0047"
      },
      "outputs": [
        {
          "data": {
            "text/plain": [
              "25"
            ]
          },
          "execution_count": 19,
          "metadata": {},
          "output_type": "execute_result"
        }
      ],
      "source": [
        "a**2"
      ]
    },
    {
      "cell_type": "code",
      "execution_count": null,
      "id": "7acb2988-4e02-4a41-b375-d707242c4d26",
      "metadata": {
        "tags": [],
        "id": "7acb2988-4e02-4a41-b375-d707242c4d26"
      },
      "outputs": [],
      "source": [
        "c = 3.2"
      ]
    },
    {
      "cell_type": "code",
      "execution_count": null,
      "id": "e05fa581-ffc1-48fc-8128-09a9156a3f86",
      "metadata": {
        "tags": [],
        "id": "e05fa581-ffc1-48fc-8128-09a9156a3f86"
      },
      "outputs": [],
      "source": [
        "# a is integer\n",
        "# b is integer\n",
        "# c is float"
      ]
    },
    {
      "cell_type": "code",
      "execution_count": null,
      "id": "ed9983f4-7af7-4eb4-8d37-71a6f5847831",
      "metadata": {
        "tags": [],
        "id": "ed9983f4-7af7-4eb4-8d37-71a6f5847831",
        "outputId": "283d1f3f-5176-4333-c92e-f378a3eaf13a"
      },
      "outputs": [
        {
          "data": {
            "text/plain": [
              "8.2"
            ]
          },
          "execution_count": 22,
          "metadata": {},
          "output_type": "execute_result"
        }
      ],
      "source": [
        "c+a"
      ]
    },
    {
      "cell_type": "code",
      "execution_count": null,
      "id": "6b1b4433-cbba-49da-902e-7a62c181199c",
      "metadata": {
        "tags": [],
        "id": "6b1b4433-cbba-49da-902e-7a62c181199c",
        "outputId": "1f85e451-c703-4abf-fb44-b767078bc77b"
      },
      "outputs": [
        {
          "data": {
            "text/plain": [
              "5.000269759913677"
            ]
          },
          "execution_count": 23,
          "metadata": {},
          "output_type": "execute_result"
        }
      ],
      "source": [
        "12/22/2022 + 5"
      ]
    },
    {
      "cell_type": "code",
      "execution_count": null,
      "id": "7b691f08-3b2e-4619-a1e2-ef2a1220fb97",
      "metadata": {
        "tags": [],
        "id": "7b691f08-3b2e-4619-a1e2-ef2a1220fb97",
        "outputId": "8afb68ec-7ed0-4217-c53e-29f42fd0abf6"
      },
      "outputs": [
        {
          "ename": "TypeError",
          "evalue": "can only concatenate str (not \"int\") to str",
          "output_type": "error",
          "traceback": [
            "\u001b[0;31m---------------------------------------------------------------------------\u001b[0m",
            "\u001b[0;31mTypeError\u001b[0m                                 Traceback (most recent call last)",
            "Cell \u001b[0;32mIn[24], line 1\u001b[0m\n\u001b[0;32m----> 1\u001b[0m \u001b[38;5;124m\"\u001b[39m\u001b[38;5;124mMatt\u001b[39m\u001b[38;5;124m\"\u001b[39m \u001b[38;5;241m+\u001b[39m \u001b[38;5;241m5\u001b[39m\n",
            "\u001b[0;31mTypeError\u001b[0m: can only concatenate str (not \"int\") to str"
          ]
        }
      ],
      "source": [
        "\"Matt\" + 5"
      ]
    },
    {
      "cell_type": "code",
      "execution_count": null,
      "id": "6470fed3-c2fa-42b6-9b93-5a8bfd4ada85",
      "metadata": {
        "tags": [],
        "id": "6470fed3-c2fa-42b6-9b93-5a8bfd4ada85",
        "outputId": "b97714a5-8815-4f6f-cef3-ca8864d5d933"
      },
      "outputs": [
        {
          "ename": "TypeError",
          "evalue": "unsupported operand type(s) for +: 'int' and 'str'",
          "output_type": "error",
          "traceback": [
            "\u001b[0;31m---------------------------------------------------------------------------\u001b[0m",
            "\u001b[0;31mTypeError\u001b[0m                                 Traceback (most recent call last)",
            "Cell \u001b[0;32mIn[25], line 1\u001b[0m\n\u001b[0;32m----> 1\u001b[0m \u001b[38;5;241m5\u001b[39m \u001b[38;5;241m+\u001b[39m \u001b[38;5;124m\"\u001b[39m\u001b[38;5;124mMatt\u001b[39m\u001b[38;5;124m\"\u001b[39m\n",
            "\u001b[0;31mTypeError\u001b[0m: unsupported operand type(s) for +: 'int' and 'str'"
          ]
        }
      ],
      "source": [
        "5 + \"Matt\""
      ]
    },
    {
      "cell_type": "code",
      "execution_count": null,
      "id": "f4da2b2e-d2cc-4534-895e-d1baf390b5bc",
      "metadata": {
        "tags": [],
        "id": "f4da2b2e-d2cc-4534-895e-d1baf390b5bc",
        "outputId": "dd380b18-9ee5-4da1-a497-14aea6e2366a"
      },
      "outputs": [
        {
          "data": {
            "text/plain": [
              "float"
            ]
          },
          "execution_count": 28,
          "metadata": {},
          "output_type": "execute_result"
        }
      ],
      "source": [
        "type(10/3)"
      ]
    },
    {
      "cell_type": "code",
      "execution_count": null,
      "id": "6b164001-9c0b-4a39-a6b3-baeab56615b4",
      "metadata": {
        "tags": [],
        "id": "6b164001-9c0b-4a39-a6b3-baeab56615b4",
        "outputId": "8651dc91-02f4-4962-9e54-f977504e3010"
      },
      "outputs": [
        {
          "data": {
            "text/plain": [
              "int"
            ]
          },
          "execution_count": 29,
          "metadata": {},
          "output_type": "execute_result"
        }
      ],
      "source": [
        "type(10//3)"
      ]
    },
    {
      "cell_type": "code",
      "execution_count": 28,
      "id": "5738f61f-f0e1-42e4-8a20-5dfc9e8bbf2e",
      "metadata": {
        "tags": [],
        "id": "5738f61f-f0e1-42e4-8a20-5dfc9e8bbf2e",
        "outputId": "e21da8dc-cd91-4a1d-c015-0f5b16659c52",
        "colab": {
          "base_uri": "https://localhost:8080/",
          "height": 35
        }
      },
      "outputs": [
        {
          "output_type": "execute_result",
          "data": {
            "text/plain": [
              "'Matthew'"
            ],
            "application/vnd.google.colaboratory.intrinsic+json": {
              "type": "string"
            }
          },
          "metadata": {},
          "execution_count": 28
        }
      ],
      "source": [
        "\"Mat\" + \"thew\""
      ]
    },
    {
      "cell_type": "code",
      "execution_count": 26,
      "id": "1e8479e8-dd44-4b7c-8d61-d1a5856414fa",
      "metadata": {
        "tags": [],
        "id": "1e8479e8-dd44-4b7c-8d61-d1a5856414fa"
      },
      "outputs": [],
      "source": [
        "d = a + c"
      ]
    },
    {
      "cell_type": "code",
      "execution_count": 27,
      "id": "10acb689-67f3-4f0c-bce6-960f1133a792",
      "metadata": {
        "tags": [],
        "id": "10acb689-67f3-4f0c-bce6-960f1133a792",
        "outputId": "a98a2076-d75c-453a-ca95-02dbff313a1b",
        "colab": {
          "base_uri": "https://localhost:8080/"
        }
      },
      "outputs": [
        {
          "output_type": "execute_result",
          "data": {
            "text/plain": [
              "8.2"
            ]
          },
          "metadata": {},
          "execution_count": 27
        }
      ],
      "source": [
        "d"
      ]
    },
    {
      "cell_type": "code",
      "execution_count": null,
      "id": "8016ea18-549a-49b6-ac73-b37aea4b0840",
      "metadata": {
        "tags": [],
        "id": "8016ea18-549a-49b6-ac73-b37aea4b0840",
        "outputId": "b59910c8-e166-46c6-84dc-bef6b64636a2"
      },
      "outputs": [
        {
          "data": {
            "text/plain": [
              "float"
            ]
          },
          "execution_count": 35,
          "metadata": {},
          "output_type": "execute_result"
        }
      ],
      "source": [
        "type(d)"
      ]
    },
    {
      "cell_type": "code",
      "execution_count": null,
      "id": "83b6604a-a669-4f37-b713-770dcd067dff",
      "metadata": {
        "tags": [],
        "id": "83b6604a-a669-4f37-b713-770dcd067dff",
        "outputId": "3b01546c-9a13-40a9-8251-6c077c4dd5fe"
      },
      "outputs": [
        {
          "data": {
            "text/plain": [
              "True"
            ]
          },
          "execution_count": 39,
          "metadata": {},
          "output_type": "execute_result"
        }
      ],
      "source": [
        "4 != 5"
      ]
    },
    {
      "cell_type": "code",
      "execution_count": null,
      "id": "dca821c3-e091-4d64-a4e3-0d1a53057ad5",
      "metadata": {
        "tags": [],
        "id": "dca821c3-e091-4d64-a4e3-0d1a53057ad5",
        "outputId": "cb2e2af3-5407-468b-88e4-d16661091e6e"
      },
      "outputs": [
        {
          "name": "stderr",
          "output_type": "stream",
          "text": [
            "<>:1: SyntaxWarning: \"is not\" with a literal. Did you mean \"!=\"?\n",
            "<>:1: SyntaxWarning: \"is not\" with a literal. Did you mean \"!=\"?\n",
            "/tmp/ipykernel_39260/3257701950.py:1: SyntaxWarning: \"is not\" with a literal. Did you mean \"!=\"?\n",
            "  4 is not 5\n"
          ]
        },
        {
          "data": {
            "text/plain": [
              "True"
            ]
          },
          "execution_count": 41,
          "metadata": {},
          "output_type": "execute_result"
        }
      ],
      "source": [
        "4 is not 5"
      ]
    },
    {
      "cell_type": "code",
      "execution_count": 25,
      "id": "1658ebcd-947b-4ff6-bd5f-6e37b934cd2d",
      "metadata": {
        "tags": [],
        "id": "1658ebcd-947b-4ff6-bd5f-6e37b934cd2d",
        "outputId": "da194946-3067-4996-d16c-4bb687bbf6a9",
        "colab": {
          "base_uri": "https://localhost:8080/"
        }
      },
      "outputs": [
        {
          "output_type": "execute_result",
          "data": {
            "text/plain": [
              "True"
            ]
          },
          "metadata": {},
          "execution_count": 25
        }
      ],
      "source": [
        "(5 > 4) and (5==5)"
      ]
    },
    {
      "cell_type": "code",
      "execution_count": 24,
      "id": "5fb76acf-943a-4d7d-9534-c2994235d765",
      "metadata": {
        "tags": [],
        "id": "5fb76acf-943a-4d7d-9534-c2994235d765",
        "outputId": "3e769fb0-e599-490d-888e-3fa1da1bbc91",
        "colab": {
          "base_uri": "https://localhost:8080/"
        }
      },
      "outputs": [
        {
          "name": "stdout",
          "output_type": "stream",
          "text": [
            "giri\n"
          ]
        }
      ],
      "source": [
        "my_first_input_variable = input()"
      ]
    },
    {
      "cell_type": "code",
      "execution_count": null,
      "id": "0bdbef97-676f-410a-b312-dd6fcc880ad6",
      "metadata": {
        "tags": [],
        "id": "0bdbef97-676f-410a-b312-dd6fcc880ad6",
        "outputId": "bbfe8215-8362-48d4-d9ee-9087947e7e20"
      },
      "outputs": [
        {
          "data": {
            "text/plain": [
              "94"
            ]
          },
          "execution_count": 48,
          "metadata": {},
          "output_type": "execute_result"
        }
      ],
      "source": [
        "int(my_first_input_variable) + 5"
      ]
    },
    {
      "cell_type": "code",
      "execution_count": null,
      "id": "66cdf686-4e5a-4a1b-9741-091b98104089",
      "metadata": {
        "tags": [],
        "id": "66cdf686-4e5a-4a1b-9741-091b98104089",
        "outputId": "62ba808c-1d6e-4670-9e15-fc57bb274a94"
      },
      "outputs": [
        {
          "name": "stdin",
          "output_type": "stream",
          "text": [
            "Hello, can you provide me your name: Javier\n"
          ]
        }
      ],
      "source": [
        "my_second_variable = input(\"Hello, can you provide me your name:\")"
      ]
    },
    {
      "cell_type": "code",
      "execution_count": null,
      "id": "e9f509cf-3bce-4cf0-9ddd-61a789edeacc",
      "metadata": {
        "tags": [],
        "id": "e9f509cf-3bce-4cf0-9ddd-61a789edeacc",
        "outputId": "3080fdfb-a4cc-4da2-92aa-635e746a1fa4"
      },
      "outputs": [
        {
          "data": {
            "text/plain": [
              "'Javier'"
            ]
          },
          "execution_count": 50,
          "metadata": {},
          "output_type": "execute_result"
        }
      ],
      "source": [
        "my_second_variable"
      ]
    },
    {
      "cell_type": "code",
      "execution_count": null,
      "id": "8bb962fb-7510-4fb8-820e-7c5cc448f80e",
      "metadata": {
        "tags": [],
        "id": "8bb962fb-7510-4fb8-820e-7c5cc448f80e",
        "outputId": "fc3d74b4-7a28-41bc-df5f-23651a7a2f20"
      },
      "outputs": [
        {
          "data": {
            "text/plain": [
              "'JavierHello'"
            ]
          },
          "execution_count": 51,
          "metadata": {},
          "output_type": "execute_result"
        }
      ],
      "source": [
        "my_second_variable + \"Hello\""
      ]
    },
    {
      "cell_type": "code",
      "execution_count": null,
      "id": "9eb6ecbb-59a8-45b5-a83b-04f315d871a7",
      "metadata": {
        "tags": [],
        "id": "9eb6ecbb-59a8-45b5-a83b-04f315d871a7"
      },
      "outputs": [],
      "source": [
        "my_prompt = my_second_variable + \"Hello\""
      ]
    },
    {
      "cell_type": "code",
      "execution_count": null,
      "id": "6d4b40f9-0ae1-40e4-8fd6-7b52d6545709",
      "metadata": {
        "tags": [],
        "id": "6d4b40f9-0ae1-40e4-8fd6-7b52d6545709",
        "outputId": "3ce1099a-6b39-4407-968f-dd6145a15bee"
      },
      "outputs": [
        {
          "name": "stdin",
          "output_type": "stream",
          "text": [
            "JavierHello Hello\n"
          ]
        }
      ],
      "source": [
        "my_second_variable_2 = input(my_prompt)"
      ]
    },
    {
      "cell_type": "code",
      "execution_count": null,
      "id": "2e62fadc-196b-4a5d-a944-f67cbf3318fd",
      "metadata": {
        "tags": [],
        "id": "2e62fadc-196b-4a5d-a944-f67cbf3318fd",
        "outputId": "3c7aac44-5421-474b-da4a-9b81d14ec8af"
      },
      "outputs": [
        {
          "data": {
            "text/plain": [
              "9.3"
            ]
          },
          "execution_count": 52,
          "metadata": {},
          "output_type": "execute_result"
        }
      ],
      "source": [
        "5.3 + 4"
      ]
    },
    {
      "cell_type": "code",
      "execution_count": null,
      "id": "b58db84f-eafa-4652-bf2b-f95d6c0c1a4c",
      "metadata": {
        "tags": [],
        "id": "b58db84f-eafa-4652-bf2b-f95d6c0c1a4c",
        "outputId": "b7fff4d0-f676-4727-faee-7a9889ac0728"
      },
      "outputs": [
        {
          "data": {
            "text/plain": [
              "9"
            ]
          },
          "execution_count": 53,
          "metadata": {},
          "output_type": "execute_result"
        }
      ],
      "source": [
        "int(9.9)"
      ]
    },
    {
      "cell_type": "code",
      "execution_count": null,
      "id": "9a4bbe33-4f27-423a-8802-b26cad1b7952",
      "metadata": {
        "tags": [],
        "id": "9a4bbe33-4f27-423a-8802-b26cad1b7952",
        "outputId": "ccc4913e-ff46-44d7-f41d-43ec19b42fef"
      },
      "outputs": [
        {
          "ename": "ValueError",
          "evalue": "invalid literal for int() with base 10: 'Matt'",
          "output_type": "error",
          "traceback": [
            "\u001b[0;31m---------------------------------------------------------------------------\u001b[0m",
            "\u001b[0;31mValueError\u001b[0m                                Traceback (most recent call last)",
            "Cell \u001b[0;32mIn[54], line 1\u001b[0m\n\u001b[0;32m----> 1\u001b[0m \u001b[38;5;28mint\u001b[39m(\u001b[38;5;124m\"\u001b[39m\u001b[38;5;124mMatt\u001b[39m\u001b[38;5;124m\"\u001b[39m)\n",
            "\u001b[0;31mValueError\u001b[0m: invalid literal for int() with base 10: 'Matt'"
          ]
        }
      ],
      "source": [
        "int(\"Matt\")"
      ]
    },
    {
      "cell_type": "code",
      "execution_count": null,
      "id": "68cc5507-07cf-4e31-9668-97e49b4ef064",
      "metadata": {
        "tags": [],
        "id": "68cc5507-07cf-4e31-9668-97e49b4ef064",
        "outputId": "9aaeacfd-981d-4ab9-f9f5-b7f88b2343cb"
      },
      "outputs": [
        {
          "data": {
            "text/plain": [
              "4.0"
            ]
          },
          "execution_count": 57,
          "metadata": {},
          "output_type": "execute_result"
        }
      ],
      "source": [
        "float(4)"
      ]
    },
    {
      "cell_type": "code",
      "execution_count": null,
      "id": "b12fb4ad-1e1e-466b-aeff-f0038a70dfc6",
      "metadata": {
        "tags": [],
        "id": "b12fb4ad-1e1e-466b-aeff-f0038a70dfc6",
        "outputId": "b9d27437-a9c9-4693-f60b-6ef3fa24da99"
      },
      "outputs": [
        {
          "data": {
            "text/plain": [
              "4.5"
            ]
          },
          "execution_count": 58,
          "metadata": {},
          "output_type": "execute_result"
        }
      ],
      "source": [
        "float(4.5)"
      ]
    },
    {
      "cell_type": "code",
      "execution_count": null,
      "id": "a53aae57-23d9-44f5-b8e5-c337fff626d3",
      "metadata": {
        "tags": [],
        "id": "a53aae57-23d9-44f5-b8e5-c337fff626d3",
        "outputId": "348070ba-847a-4384-9096-f2976d3a8c53"
      },
      "outputs": [
        {
          "data": {
            "text/plain": [
              "'45'"
            ]
          },
          "execution_count": 59,
          "metadata": {},
          "output_type": "execute_result"
        }
      ],
      "source": [
        "str(45)"
      ]
    },
    {
      "cell_type": "code",
      "execution_count": null,
      "id": "62b4adee-a31e-4433-82a7-151b6a103b6f",
      "metadata": {
        "tags": [],
        "id": "62b4adee-a31e-4433-82a7-151b6a103b6f",
        "outputId": "3e6d9266-ef41-4ce8-8e5d-33d1661647a4"
      },
      "outputs": [
        {
          "name": "stdout",
          "output_type": "stream",
          "text": [
            "Javier's age is :15\n"
          ]
        }
      ],
      "source": [
        "print(\"Javier's age is :\"+str(15))"
      ]
    },
    {
      "cell_type": "code",
      "execution_count": null,
      "id": "da6068a6-f551-45d0-96d8-c14c6473970e",
      "metadata": {
        "tags": [],
        "id": "da6068a6-f551-45d0-96d8-c14c6473970e",
        "outputId": "b29716a6-82da-4723-e0d8-c20c866126ce"
      },
      "outputs": [
        {
          "data": {
            "text/plain": [
              "'True'"
            ]
          },
          "execution_count": 62,
          "metadata": {},
          "output_type": "execute_result"
        }
      ],
      "source": [
        "str(True)"
      ]
    },
    {
      "cell_type": "code",
      "execution_count": null,
      "id": "1febe02c-c73f-47e3-b569-c9a66d6b5817",
      "metadata": {
        "tags": [],
        "id": "1febe02c-c73f-47e3-b569-c9a66d6b5817",
        "outputId": "dda870cf-dc43-4900-8c62-35512582b8a6"
      },
      "outputs": [
        {
          "data": {
            "text/plain": [
              "True"
            ]
          },
          "execution_count": 63,
          "metadata": {},
          "output_type": "execute_result"
        }
      ],
      "source": [
        "bool(1)"
      ]
    },
    {
      "cell_type": "code",
      "execution_count": null,
      "id": "3e7847d1-2663-4d56-87e0-3bf8604a0c18",
      "metadata": {
        "tags": [],
        "id": "3e7847d1-2663-4d56-87e0-3bf8604a0c18",
        "outputId": "349d64cc-42eb-4380-df35-a7c6c58e58f2"
      },
      "outputs": [
        {
          "data": {
            "text/plain": [
              "True"
            ]
          },
          "execution_count": 64,
          "metadata": {},
          "output_type": "execute_result"
        }
      ],
      "source": [
        "bool(45)"
      ]
    },
    {
      "cell_type": "code",
      "execution_count": null,
      "id": "43dbc41a-7a24-425c-bd5d-736ae93783c8",
      "metadata": {
        "tags": [],
        "id": "43dbc41a-7a24-425c-bd5d-736ae93783c8",
        "outputId": "07e39203-2e25-494d-9135-359941f8c9c3"
      },
      "outputs": [
        {
          "data": {
            "text/plain": [
              "False"
            ]
          },
          "execution_count": 65,
          "metadata": {},
          "output_type": "execute_result"
        }
      ],
      "source": [
        "bool(0)"
      ]
    },
    {
      "cell_type": "code",
      "execution_count": null,
      "id": "a0a6a17c-e474-47e2-b604-fe5d4397c757",
      "metadata": {
        "tags": [],
        "id": "a0a6a17c-e474-47e2-b604-fe5d4397c757",
        "outputId": "2eb1d100-8932-49d9-cb7e-03a49a801789"
      },
      "outputs": [
        {
          "data": {
            "text/plain": [
              "True"
            ]
          },
          "execution_count": 66,
          "metadata": {},
          "output_type": "execute_result"
        }
      ],
      "source": [
        "bool(4.5)"
      ]
    },
    {
      "cell_type": "code",
      "execution_count": null,
      "id": "502f4051-6b43-4f59-9994-3229c2f3f0c9",
      "metadata": {
        "tags": [],
        "id": "502f4051-6b43-4f59-9994-3229c2f3f0c9",
        "outputId": "a5019ceb-25e6-47a1-c3dc-d4520f88f564"
      },
      "outputs": [
        {
          "name": "stdout",
          "output_type": "stream",
          "text": [
            "a and b are the same\n"
          ]
        }
      ],
      "source": [
        "a = 16\n",
        "b = 16\n",
        "if a > b:\n",
        "    # block of code\n",
        "    print(\"a is bigger than b\")\n",
        "elif a < b:\n",
        "    # block of code\n",
        "    print(\"a is smaller than b\")\n",
        "else:\n",
        "    #block of code\n",
        "    print(\"a and b are the same\")\n",
        ""
      ]
    },
    {
      "cell_type": "code",
      "execution_count": null,
      "id": "a255f932-eaf0-4412-aef8-20bf2191cd75",
      "metadata": {
        "tags": [],
        "id": "a255f932-eaf0-4412-aef8-20bf2191cd75",
        "outputId": "f31a5262-bf15-43d1-a05f-1f25c8bb631b"
      },
      "outputs": [
        {
          "name": "stdout",
          "output_type": "stream",
          "text": [
            "a == b\n"
          ]
        }
      ],
      "source": [
        "a = 16\n",
        "b = 16\n",
        "if a > b:\n",
        "    # block of code\n",
        "    print(\"a is bigger than b\")\n",
        "elif a < b:\n",
        "    # block of code\n",
        "    print(\"a is smaller than b\")\n",
        "elif a == b:\n",
        "    #block of code\n",
        "    print(\"a == b\")\n",
        "else:\n",
        "    #block of code\n",
        "    print(\"a and b are the same\")\n",
        ""
      ]
    },
    {
      "cell_type": "code",
      "execution_count": null,
      "id": "bb6e7e6e-6d71-4e53-beaa-0b9f1c16a31f",
      "metadata": {
        "id": "bb6e7e6e-6d71-4e53-beaa-0b9f1c16a31f"
      },
      "outputs": [],
      "source": [
        "c = 45\n",
        "d = 34\n",
        "a = 36\n",
        "b = 16\n",
        "\n",
        "if a>b:\n",
        "    if c<d:\n",
        "        print(\"I am here\")\n",
        "    else:\n",
        "        print(\"Else\")\n",
        "else:\n",
        "    print(\"Nothing to do\")"
      ]
    },
    {
      "cell_type": "code",
      "execution_count": null,
      "id": "9ab21108-3477-4546-9566-53cc3e0ca454",
      "metadata": {
        "tags": [],
        "id": "9ab21108-3477-4546-9566-53cc3e0ca454",
        "outputId": "63335b8e-0835-45cb-b2f2-460a34680f22"
      },
      "outputs": [
        {
          "name": "stdout",
          "output_type": "stream",
          "text": [
            "for loop step 0\n",
            "for loop step 1\n",
            "for loop step 2\n",
            "for loop step 3\n",
            "for loop step 4\n"
          ]
        }
      ],
      "source": [
        "for i in range(5):\n",
        "    print(\"for loop step\",i)\n",
        ""
      ]
    },
    {
      "cell_type": "code",
      "execution_count": null,
      "id": "02bb91a7-f277-4596-a594-71a4ccc3c8d7",
      "metadata": {
        "tags": [],
        "id": "02bb91a7-f277-4596-a594-71a4ccc3c8d7",
        "outputId": "d3225005-fa58-4235-ee2a-b64f572bb9f3"
      },
      "outputs": [
        {
          "name": "stdout",
          "output_type": "stream",
          "text": [
            "while step 0\n",
            "while step 1\n",
            "while step 2\n",
            "while step 3\n",
            "while step 4\n"
          ]
        }
      ],
      "source": [
        "counter = 0\n",
        "\n",
        "while counter< 5:\n",
        "    print(\"while step\",counter)\n",
        "    counter = counter + 1 # this step is VERY IMPORTANT"
      ]
    },
    {
      "cell_type": "code",
      "execution_count": null,
      "id": "4f4a8add-7cf1-4180-bb63-38aef5724d4c",
      "metadata": {
        "id": "4f4a8add-7cf1-4180-bb63-38aef5724d4c"
      },
      "outputs": [],
      "source": [
        "while True: #infinite loop\n",
        "    ## do what ever you want forever."
      ]
    },
    {
      "cell_type": "code",
      "execution_count": null,
      "id": "8eb50df4-d901-4c57-90f9-14ce1705231a",
      "metadata": {
        "tags": [],
        "id": "8eb50df4-d901-4c57-90f9-14ce1705231a",
        "outputId": "5281bcfb-691d-4060-8440-09cbf4ec98f7"
      },
      "outputs": [
        {
          "name": "stdout",
          "output_type": "stream",
          "text": [
            "for loop step 0\n",
            "for loop step 1\n",
            "for loop step 2\n",
            "for loop step 3\n",
            "for loop step 4\n",
            "4\n"
          ]
        }
      ],
      "source": [
        "i = 1\n",
        "\n",
        "for i in range(5):\n",
        "    print(\"for loop step\",i)\n",
        "\n",
        "print(i)"
      ]
    },
    {
      "cell_type": "code",
      "execution_count": null,
      "id": "9d35f38c-9d18-4d1b-8062-491338656544",
      "metadata": {
        "tags": [],
        "id": "9d35f38c-9d18-4d1b-8062-491338656544",
        "outputId": "27967ddf-f5fa-48f2-a217-9e756495f00d"
      },
      "outputs": [
        {
          "name": "stdout",
          "output_type": "stream",
          "text": [
            "for loop step 0\n",
            "for loop step 1\n",
            "for loop step 2\n"
          ]
        }
      ],
      "source": [
        "\n",
        "\n",
        "for i in range(5):\n",
        "    if i == 3:\n",
        "        break\n",
        "    print(\"for loop step\",i)\n",
        "\n"
      ]
    },
    {
      "cell_type": "code",
      "execution_count": null,
      "id": "e14d28ca-d677-44af-8e02-d833d3f76d38",
      "metadata": {
        "tags": [],
        "id": "e14d28ca-d677-44af-8e02-d833d3f76d38",
        "outputId": "c1daec60-c284-4cec-de1f-9283031b3258"
      },
      "outputs": [
        {
          "name": "stdout",
          "output_type": "stream",
          "text": [
            "for loop step 0\n",
            "for loop step 2\n"
          ]
        }
      ],
      "source": [
        "for i in range(10):\n",
        "    if i == 3:\n",
        "        break\n",
        "    elif i ==1:\n",
        "        continue\n",
        "\n",
        "    print(\"for loop step\",i)"
      ]
    },
    {
      "cell_type": "code",
      "execution_count": null,
      "id": "7fff3a68-a32a-4889-868b-7c1431513c98",
      "metadata": {
        "tags": [],
        "id": "7fff3a68-a32a-4889-868b-7c1431513c98",
        "outputId": "52adca92-2998-4b06-d866-b18191fb298d"
      },
      "outputs": [
        {
          "ename": "IndentationError",
          "evalue": "unindent does not match any outer indentation level (<tokenize>, line 11)",
          "output_type": "error",
          "traceback": [
            "\u001b[0;36m  File \u001b[0;32m<tokenize>:11\u001b[0;36m\u001b[0m\n\u001b[0;31m    print(\"I am out of the loop now\")\u001b[0m\n\u001b[0m    ^\u001b[0m\n\u001b[0;31mIndentationError\u001b[0m\u001b[0;31m:\u001b[0m unindent does not match any outer indentation level\n"
          ]
        }
      ],
      "source": [
        "a = 5\n",
        "print(\"Hello I am in my first code\")\n",
        "\n",
        "for i in range(10):\n",
        "    if i == 3:\n",
        "        break\n",
        "    elif i ==1:\n",
        "        continue\n",
        "    print(\"for loop step\",i)\n",
        "\n",
        "print(\"I am out of the loop now\")"
      ]
    },
    {
      "cell_type": "code",
      "execution_count": null,
      "id": "559252ba-48d7-45a1-8154-66e7649a9c70",
      "metadata": {
        "tags": [],
        "id": "559252ba-48d7-45a1-8154-66e7649a9c70",
        "outputId": "5d9d81a3-8e2a-491c-cfb3-036abb58bdd4"
      },
      "outputs": [
        {
          "name": "stdout",
          "output_type": "stream",
          "text": [
            "length 3\n",
            "3\n",
            "you break the flow\n",
            "4\n",
            "5\n",
            "6\n",
            "finish row\n",
            "7\n",
            "8\n",
            "9\n",
            "finish row\n"
          ]
        }
      ],
      "source": [
        "mat = [[3,2,1],[4,5,6],[7,8,9]]\n",
        "print(\"length\",len(mat))\n",
        "\n",
        "for row in mat:\n",
        "    break_it = False\n",
        "    for element in row:\n",
        "        if element < 3:\n",
        "            break_it = True\n",
        "            break\n",
        "        else:\n",
        "            print(element)\n",
        "    ## this is the line you land after the break in the inner loo\n",
        "    if break_it:\n",
        "        print(\"you break the flow\")\n",
        "    else:\n",
        "        print(\"finish row\") #I know that I finished a row."
      ]
    },
    {
      "cell_type": "code",
      "execution_count": null,
      "id": "439ab7cd-3808-4614-b2b7-75fff6542f9f",
      "metadata": {
        "tags": [],
        "id": "439ab7cd-3808-4614-b2b7-75fff6542f9f",
        "outputId": "095897a3-3554-41fd-cf08-f5bc15fe1c13"
      },
      "outputs": [
        {
          "name": "stdout",
          "output_type": "stream",
          "text": [
            "Hello  Alice\n"
          ]
        }
      ],
      "source": [
        "def my_first_function(name=\"anonymous\"):\n",
        "    print(\"Hello \",name)\n",
        "\n",
        "my_first_function(\"Alice\")"
      ]
    },
    {
      "cell_type": "code",
      "execution_count": null,
      "id": "9bb90f3c-f5ea-4311-a51f-6ebaa922ffba",
      "metadata": {
        "tags": [],
        "id": "9bb90f3c-f5ea-4311-a51f-6ebaa922ffba",
        "outputId": "2617e247-fd20-4dc9-98f7-add1ad73d16d"
      },
      "outputs": [
        {
          "name": "stdout",
          "output_type": "stream",
          "text": [
            "False\n"
          ]
        }
      ],
      "source": [
        "nums = [1,2,3]\n",
        "\n",
        "def findDuplicates(list_nums):\n",
        "    for i in range(0,len(list_nums)-1):\n",
        "        for j in range(i+1,len(list_nums)):\n",
        "            if list_nums[i] == list_nums[j]:\n",
        "                return True\n",
        "    return False\n",
        "\n",
        "print(findDuplicates(nums))"
      ]
    },
    {
      "cell_type": "code",
      "execution_count": null,
      "id": "2d760dbe-ebf4-4a6a-b9bf-a9fa572ef95b",
      "metadata": {
        "tags": [],
        "id": "2d760dbe-ebf4-4a6a-b9bf-a9fa572ef95b"
      },
      "outputs": [],
      "source": [
        "num_list = [x for x in range(100)]"
      ]
    },
    {
      "cell_type": "code",
      "execution_count": null,
      "id": "dcf15b6f-4ef6-4228-8f93-9407364af572",
      "metadata": {
        "collapsed": true,
        "jupyter": {
          "outputs_hidden": true
        },
        "tags": [],
        "id": "dcf15b6f-4ef6-4228-8f93-9407364af572",
        "outputId": "a39ee251-bae8-4b49-fb1e-e72af3408723"
      },
      "outputs": [
        {
          "data": {
            "text/plain": [
              "[0,\n",
              " 1,\n",
              " 2,\n",
              " 3,\n",
              " 4,\n",
              " 5,\n",
              " 6,\n",
              " 7,\n",
              " 8,\n",
              " 9,\n",
              " 10,\n",
              " 11,\n",
              " 12,\n",
              " 13,\n",
              " 14,\n",
              " 15,\n",
              " 16,\n",
              " 17,\n",
              " 18,\n",
              " 19,\n",
              " 20,\n",
              " 21,\n",
              " 22,\n",
              " 23,\n",
              " 24,\n",
              " 25,\n",
              " 26,\n",
              " 27,\n",
              " 28,\n",
              " 29,\n",
              " 30,\n",
              " 31,\n",
              " 32,\n",
              " 33,\n",
              " 34,\n",
              " 35,\n",
              " 36,\n",
              " 37,\n",
              " 38,\n",
              " 39,\n",
              " 40,\n",
              " 41,\n",
              " 42,\n",
              " 43,\n",
              " 44,\n",
              " 45,\n",
              " 46,\n",
              " 47,\n",
              " 48,\n",
              " 49,\n",
              " 50,\n",
              " 51,\n",
              " 52,\n",
              " 53,\n",
              " 54,\n",
              " 55,\n",
              " 56,\n",
              " 57,\n",
              " 58,\n",
              " 59,\n",
              " 60,\n",
              " 61,\n",
              " 62,\n",
              " 63,\n",
              " 64,\n",
              " 65,\n",
              " 66,\n",
              " 67,\n",
              " 68,\n",
              " 69,\n",
              " 70,\n",
              " 71,\n",
              " 72,\n",
              " 73,\n",
              " 74,\n",
              " 75,\n",
              " 76,\n",
              " 77,\n",
              " 78,\n",
              " 79,\n",
              " 80,\n",
              " 81,\n",
              " 82,\n",
              " 83,\n",
              " 84,\n",
              " 85,\n",
              " 86,\n",
              " 87,\n",
              " 88,\n",
              " 89,\n",
              " 90,\n",
              " 91,\n",
              " 92,\n",
              " 93,\n",
              " 94,\n",
              " 95,\n",
              " 96,\n",
              " 97,\n",
              " 98,\n",
              " 99]"
            ]
          },
          "execution_count": 111,
          "metadata": {},
          "output_type": "execute_result"
        }
      ],
      "source": [
        "num_list"
      ]
    },
    {
      "cell_type": "code",
      "execution_count": 39,
      "id": "9148c73c-06af-491b-9a78-c4bdd6c06b34",
      "metadata": {
        "tags": [],
        "id": "9148c73c-06af-491b-9a78-c4bdd6c06b34"
      },
      "outputs": [],
      "source": [
        "fruits = [\"apple\", \"banana\", \"cherry\", \"kiwi\", \"mango\"]\n",
        "\n",
        "newlist = [y for y in fruits if \"a\" in y]"
      ]
    },
    {
      "cell_type": "code",
      "execution_count": 40,
      "id": "ed6fa0b3-7ce8-49fa-ba08-f5abae5889a0",
      "metadata": {
        "tags": [],
        "id": "ed6fa0b3-7ce8-49fa-ba08-f5abae5889a0",
        "outputId": "8a49d5cf-7734-4295-c60b-6493b32d626d",
        "colab": {
          "base_uri": "https://localhost:8080/"
        }
      },
      "outputs": [
        {
          "output_type": "execute_result",
          "data": {
            "text/plain": [
              "['apple', 'banana', 'mango']"
            ]
          },
          "metadata": {},
          "execution_count": 40
        }
      ],
      "source": [
        "newlist\n"
      ]
    },
    {
      "cell_type": "code",
      "execution_count": 42,
      "id": "0c2313f4-1b51-4853-b401-4571eeb88c9d",
      "metadata": {
        "tags": [],
        "id": "0c2313f4-1b51-4853-b401-4571eeb88c9d"
      },
      "outputs": [],
      "source": [
        "st = \"Hello, I am Javier, your instructor, my name is Javier\""
      ]
    },
    {
      "cell_type": "code",
      "execution_count": 43,
      "id": "02c74a2d-cdca-4632-a50a-c1e01a7c6788",
      "metadata": {
        "tags": [],
        "id": "02c74a2d-cdca-4632-a50a-c1e01a7c6788",
        "outputId": "24e67c6c-580d-48af-88e7-7166191d415b",
        "colab": {
          "base_uri": "https://localhost:8080/"
        }
      },
      "outputs": [
        {
          "output_type": "execute_result",
          "data": {
            "text/plain": [
              "12"
            ]
          },
          "metadata": {},
          "execution_count": 43
        }
      ],
      "source": [
        "st.find(\"Javier\")"
      ]
    },
    {
      "cell_type": "code",
      "execution_count": null,
      "id": "44782bcd-62fc-4b74-984d-4906505372b8",
      "metadata": {
        "tags": [],
        "id": "44782bcd-62fc-4b74-984d-4906505372b8",
        "outputId": "1e51d657-eda4-479e-c085-587d582ec8b6"
      },
      "outputs": [
        {
          "data": {
            "text/plain": [
              "['Hello', ' I am Javier', ' your instructor', ' my name is Javier']"
            ]
          },
          "execution_count": 122,
          "metadata": {},
          "output_type": "execute_result"
        }
      ],
      "source": [
        "st.split(\",\")"
      ]
    },
    {
      "cell_type": "code",
      "execution_count": null,
      "id": "ea0e3230-70bd-4c8b-98be-e915e4d6e3b1",
      "metadata": {
        "tags": [],
        "id": "ea0e3230-70bd-4c8b-98be-e915e4d6e3b1",
        "outputId": "f1d31152-d9eb-4b4d-cc84-2e41a55cae4c"
      },
      "outputs": [
        {
          "data": {
            "text/plain": [
              "'Hello, I am Alice, your instructor, my name is Alice'"
            ]
          },
          "execution_count": 123,
          "metadata": {},
          "output_type": "execute_result"
        }
      ],
      "source": [
        "st.replace(\"Javier\",\"Alice\")"
      ]
    },
    {
      "cell_type": "code",
      "execution_count": 44,
      "id": "a5215e7a-dfdc-499a-b119-7073004c672d",
      "metadata": {
        "tags": [],
        "id": "a5215e7a-dfdc-499a-b119-7073004c672d",
        "outputId": "6a73d2d6-7fcd-4ce9-b108-8e6c5f9b8aef",
        "colab": {
          "base_uri": "https://localhost:8080/",
          "height": 35
        }
      },
      "outputs": [
        {
          "output_type": "execute_result",
          "data": {
            "text/plain": [
              "'Hello'"
            ],
            "application/vnd.google.colaboratory.intrinsic+json": {
              "type": "string"
            }
          },
          "metadata": {},
          "execution_count": 44
        }
      ],
      "source": [
        "st[0:5]"
      ]
    },
    {
      "cell_type": "code",
      "execution_count": 48,
      "id": "b0cf557d-e141-48d4-985d-32be0c3fb5ee",
      "metadata": {
        "tags": [],
        "id": "b0cf557d-e141-48d4-985d-32be0c3fb5ee",
        "outputId": "972509de-6ca6-4bcc-d3c6-ffc498610c1f",
        "colab": {
          "base_uri": "https://localhost:8080/",
          "height": 35
        }
      },
      "outputs": [
        {
          "output_type": "execute_result",
          "data": {
            "text/plain": [
              "'Hello'"
            ],
            "application/vnd.google.colaboratory.intrinsic+json": {
              "type": "string"
            }
          },
          "metadata": {},
          "execution_count": 48
        }
      ],
      "source": [
        "st[0:5:1]"
      ]
    },
    {
      "cell_type": "code",
      "execution_count": 49,
      "id": "95ea8476-f3eb-44e2-8a80-498af231993f",
      "metadata": {
        "tags": [],
        "id": "95ea8476-f3eb-44e2-8a80-498af231993f",
        "outputId": "6c0897b7-6d79-462d-b44a-fa5501996c66",
        "colab": {
          "base_uri": "https://localhost:8080/",
          "height": 35
        }
      },
      "outputs": [
        {
          "output_type": "execute_result",
          "data": {
            "text/plain": [
              "'H'"
            ],
            "application/vnd.google.colaboratory.intrinsic+json": {
              "type": "string"
            }
          },
          "metadata": {},
          "execution_count": 49
        }
      ],
      "source": [
        "st[0:5:20]"
      ]
    },
    {
      "cell_type": "code",
      "execution_count": null,
      "id": "df8c9c0b-e222-477d-b06b-4a4939078767",
      "metadata": {
        "tags": [],
        "id": "df8c9c0b-e222-477d-b06b-4a4939078767",
        "outputId": "1ffc08a0-a4f2-44e3-9e68-f3cefae99330"
      },
      "outputs": [
        {
          "data": {
            "text/plain": [
              "[2]"
            ]
          },
          "execution_count": 130,
          "metadata": {},
          "output_type": "execute_result"
        }
      ],
      "source": [
        "nums1 = [1,2,2,1]\n",
        "nums2 = [2,2]\n",
        "\n",
        "def findIntersection(nums1,nums2):\n",
        "    answer = []\n",
        "    for elem in nums1:\n",
        "        if elem in nums2: # in checks if elem in nums2 like it was a for loop.\n",
        "            if elem not in answer:\n",
        "                answer.append(elem)\n",
        "    return answer\n",
        "\n",
        "findIntersection(nums1, nums2)"
      ]
    },
    {
      "cell_type": "code",
      "execution_count": null,
      "id": "34e43788-cc60-4639-bb15-437c1b852178",
      "metadata": {
        "tags": [],
        "id": "34e43788-cc60-4639-bb15-437c1b852178",
        "outputId": "4b32f6d8-101b-4865-88e1-e9ee8557a203"
      },
      "outputs": [
        {
          "name": "stdout",
          "output_type": "stream",
          "text": [
            "['The', 'sky', 'is', 'blue']\n",
            "['blue', 'is', 'sky', 'The']\n",
            "blue is sky The\n"
          ]
        }
      ],
      "source": [
        "st = \"The sky is blue\"\n",
        "\n",
        "def reverseString(st):\n",
        "    list_words = st.split(\" \")\n",
        "    print(list_words)\n",
        "    list_words.reverse()\n",
        "    print(list_words)\n",
        "    out = \" \".join(list_words)\n",
        "    print(out)\n",
        "\n",
        "reverseString(st)"
      ]
    }
  ],
  "metadata": {
    "kernelspec": {
      "display_name": "Python 3 (ipykernel)",
      "language": "python",
      "name": "python3"
    },
    "language_info": {
      "codemirror_mode": {
        "name": "ipython",
        "version": 3
      },
      "file_extension": ".py",
      "mimetype": "text/x-python",
      "name": "python",
      "nbconvert_exporter": "python",
      "pygments_lexer": "ipython3",
      "version": "3.11.4"
    },
    "colab": {
      "provenance": [],
      "include_colab_link": true
    }
  },
  "nbformat": 4,
  "nbformat_minor": 5
}